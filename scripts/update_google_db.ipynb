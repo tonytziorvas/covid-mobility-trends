{
 "cells": [
  {
   "cell_type": "code",
   "execution_count": 1,
   "id": "75e5c7af",
   "metadata": {},
   "outputs": [],
   "source": [
    "%load_ext autoreload\n",
    "%autoreload 2"
   ]
  },
  {
   "cell_type": "code",
   "execution_count": 2,
   "id": "0756c767",
   "metadata": {},
   "outputs": [],
   "source": [
    "import postgres"
   ]
  },
  {
   "cell_type": "code",
   "execution_count": 15,
   "id": "be03d4da-3d1f-4b50-a029-a17ee19b24ac",
   "metadata": {},
   "outputs": [
    {
     "name": "stdout",
     "output_type": "stream",
     "text": [
      "Connecting to the PostgreSQL database...\n",
      "========================================\n",
      "Connection successful\n",
      "Connection successful\n",
      "Fetching Data from database...\n",
      "===========================\n",
      "Tables created successfully!\n",
      "----------------------------\n"
     ]
    }
   ],
   "source": [
    "file_path = '../../Data/Global_Mobility_Report.csv'\n",
    "postgres.create_tables_google()\n",
    "\n",
    "df = helper.pd.read_csv(filepath_or_buffer=file_path, parse_dates=True, low_memory=False)\n",
    "\n",
    "countries = df[[\"country_region_code\", \"country_region\"]].drop_duplicates()\n",
    "stats = df.drop(\n",
    "    labels=[\"country_region\", \"iso_3166_2_code\", \"census_fips_code\", \"place_id\"],\n",
    "    axis=1,\n",
    ")\n",
    "location_util = df[\n",
    "    [\"country_region_code\", \"iso_3166_2_code\", \"census_fips_code\", \"place_id\"]\n",
    "].drop_duplicates()\n",
    "\n",
    "countries[\"country_region_code\"][countries[\"country_region\"] == \"Namibia\"] = \"NA\"\n",
    "\n",
    "postgres.import_data(countries, 'countries_google')\n",
    "postgres.import_data(stats, 'mobility_stats_google')\n",
    "postgres.import_data(location_util, 'location_util_google')"
   ]
  }
 ],
 "metadata": {
  "kernelspec": {
   "display_name": "Python 3 (ipykernel)",
   "language": "python",
   "name": "python3"
  },
  "language_info": {
   "codemirror_mode": {
    "name": "ipython",
    "version": 3
   },
   "file_extension": ".py",
   "mimetype": "text/x-python",
   "name": "python",
   "nbconvert_exporter": "python",
   "pygments_lexer": "ipython3",
   "version": "3.9.7"
  }
 },
 "nbformat": 4,
 "nbformat_minor": 5
}
