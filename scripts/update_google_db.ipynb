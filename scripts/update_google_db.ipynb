{
 "cells": [
  {
   "cell_type": "code",
   "execution_count": 1,
   "id": "0756c767",
   "metadata": {},
   "outputs": [],
   "source": [
    "%load_ext autoreload\n",
    "%autoreload 2\n",
    "\n",
    "import helper"
   ]
  },
  {
   "cell_type": "code",
   "execution_count": 5,
   "id": "d33801c2",
   "metadata": {},
   "outputs": [],
   "source": [
    "def driver_code():\n",
    "\n",
    "    count = 0\n",
    "\n",
    "#     file_path = download_file(\n",
    "#         \"https://www.gstatic.com/covid19/mobility/Global_Mobility_Report.csv\"\n",
    "#     )\n",
    "    file_path = '../../Data/Global_Mobility_Report.csv'\n",
    "    conn = helper.make_connection()\n",
    "    helper.create_tables_google(conn)\n",
    "\n",
    "    df = helper.pd.read_csv(filepath_or_buffer=file_path, parse_dates=True, low_memory=False)\n",
    "\n",
    "    countries = df[[\"country_region_code\", \"country_region\"]].drop_duplicates()\n",
    "    stats = df.drop(\n",
    "        labels=[\"country_region\", \"iso_3166_2_code\", \"census_fips_code\", \"place_id\"],\n",
    "        axis=1,\n",
    "    )\n",
    "    location_util = df[\n",
    "        [\"country_region_code\", \"iso_3166_2_code\", \"census_fips_code\", \"place_id\"]\n",
    "    ].drop_duplicates()\n",
    "\n",
    "    countries[\"country_region_code\"][countries[\"country_region\"] == \"Namibia\"] = \"NA\"\n",
    "\n",
    "    count += helper.import_data(conn, \"countries_google\", countries)\n",
    "    count += helper.import_data(conn, \"mobility_stats_google\", stats)\n",
    "    count += helper.import_data(conn, \"location_util_google\", location_util)\n",
    "    \n",
    "    helper.os.remove('../../Data/Global_Mobility_Report.csv')\n",
    "    \n",
    "    return count"
   ]
  },
  {
   "cell_type": "code",
   "execution_count": 6,
   "id": "f8d87109",
   "metadata": {},
   "outputs": [
    {
     "name": "stdout",
     "output_type": "stream",
     "text": [
      "Connecting to the PostgreSQL database...\n",
      "Connection successful\n",
      "Version: ('PostgreSQL 14.0, compiled by Visual C++ build 1914, 64-bit',)\n",
      "Fetching Data from database...\n",
      "Tables created successfully!\n",
      "----------------------------\n",
      "Truncated countries_google\n",
      "Done!\n",
      "-------------------------------\n",
      "Truncated mobility_stats_google\n",
      "Done!\n",
      "-------------------------------\n",
      "Truncated location_util_google\n",
      "Done!\n",
      "-------------------------------\n"
     ]
    },
    {
     "data": {
      "text/plain": [
       "3"
      ]
     },
     "execution_count": 6,
     "metadata": {},
     "output_type": "execute_result"
    }
   ],
   "source": [
    "driver_code()"
   ]
  }
 ],
 "metadata": {
  "kernelspec": {
   "display_name": "Python 3 (ipykernel)",
   "language": "python",
   "name": "python3"
  },
  "language_info": {
   "codemirror_mode": {
    "name": "ipython",
    "version": 3
   },
   "file_extension": ".py",
   "mimetype": "text/x-python",
   "name": "python",
   "nbconvert_exporter": "python",
   "pygments_lexer": "ipython3",
   "version": "3.8.8"
  }
 },
 "nbformat": 4,
 "nbformat_minor": 5
}
