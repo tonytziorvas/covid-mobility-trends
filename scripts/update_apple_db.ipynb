{
 "cells": [
  {
   "cell_type": "code",
   "execution_count": 1,
   "id": "72ccba35",
   "metadata": {},
   "outputs": [],
   "source": [
    "%load_ext autoreload\n",
    "%autoreload 2\n",
    "\n",
    "import helper\n",
    "from helper import os as os"
   ]
  },
  {
   "cell_type": "code",
   "execution_count": 9,
   "id": "42ba2016",
   "metadata": {},
   "outputs": [],
   "source": [
    "def driver_code():\n",
    "    \n",
    "    count = 0    \n",
    "    file_path = '../../Data'\n",
    "    \n",
    "    for file in os.listdir(file_path):\n",
    "        if file.startswith('applemobilitytrends'):\n",
    "            file_path = os.path.join(file_path ,file)\n",
    "\n",
    "    conn = helper._make_connection()\n",
    "    helper.create_tables_apple(conn)\n",
    "\n",
    "    df = helper.pd.read_csv(filepath_or_buffer=file_path, low_memory=False)\n",
    "\n",
    "    dates = df[df.columns[6:]]\n",
    "    nulls = dates[dates.isna().all(axis=1)].index\n",
    "    df.drop(index=nulls, inplace=True)\n",
    "\n",
    "    countries_util = df[['geo_type', 'region', 'alternative_name', 'sub-region', 'country']].drop_duplicates()\n",
    "\n",
    "    countries_util = countries_util[['region', 'geo_type', 'alternative_name', 'sub-region', 'country']]\n",
    "\n",
    "    df = df.drop(labels=['geo_type', 'alternative_name', 'country', 'sub-region'], axis=1)\n",
    "    df.head()\n",
    "\n",
    "    inter_df = helper.rearrange_df(df)\n",
    "\n",
    "    count += helper.import_data(conn, 'countries_apple', countries_util)\n",
    "    count += helper.import_data(conn, 'mobility_stats_apple', inter_df)\n",
    "    \n",
    "    helper.os.remove(file_path)\n",
    "    \n",
    "    return count, file_path"
   ]
  },
  {
   "cell_type": "code",
   "execution_count": 10,
   "id": "faa471a7",
   "metadata": {},
   "outputs": [
    {
     "name": "stdout",
     "output_type": "stream",
     "text": [
      "Connecting to the PostgreSQL database...\n",
      "Connection successful\n",
      "Version: ('PostgreSQL 14.0, compiled by Visual C++ build 1914, 64-bit',)\n",
      "Fetching Data from database...\n",
      "Tables created successfully!\n",
      "----------------------------\n",
      "Truncated countries_apple\n",
      "Done!\n",
      "-------------------------------\n",
      "Truncated mobility_stats_apple\n",
      "Done!\n",
      "-------------------------------\n",
      "2\n"
     ]
    }
   ],
   "source": [
    "count, file_path = driver_code()\n",
    "print(count)"
   ]
  }
 ],
 "metadata": {
  "kernelspec": {
   "display_name": "Python 3 (ipykernel)",
   "language": "python",
   "name": "python3"
  },
  "language_info": {
   "codemirror_mode": {
    "name": "ipython",
    "version": 3
   },
   "file_extension": ".py",
   "mimetype": "text/x-python",
   "name": "python",
   "nbconvert_exporter": "python",
   "pygments_lexer": "ipython3",
   "version": "3.8.8"
  }
 },
 "nbformat": 4,
 "nbformat_minor": 5
}
