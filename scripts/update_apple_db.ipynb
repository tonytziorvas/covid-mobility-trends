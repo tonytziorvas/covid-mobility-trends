{
 "cells": [
  {
   "cell_type": "code",
   "execution_count": 1,
   "id": "72ccba35",
   "metadata": {},
   "outputs": [],
   "source": [
    "%load_ext autoreload\n",
    "%autoreload 2\n",
    "\n",
    "import pandas as pd\n",
    "import os\n",
    "\n",
    "import helper\n",
    "import postgres"
   ]
  },
  {
   "cell_type": "code",
   "execution_count": 2,
   "id": "91728052-0098-4499-907c-99cd287f481d",
   "metadata": {
    "scrolled": true
   },
   "outputs": [
    {
     "name": "stdout",
     "output_type": "stream",
     "text": [
      "=================================================\n",
      "Creating connection to the PostgreSQL database...\n",
      "=================================================\n",
      "=======\n",
      "Table countries_apple already exists! Skipping...\n",
      "=======\n",
      "Table mobility_stats_apple already exists! Skipping...\n",
      "=======\n",
      "Table countries_apple already exists! Skipping...\n",
      "=======\n",
      "Table mobility_stats_apple already exists! Skipping...\n"
     ]
    }
   ],
   "source": [
    "file_path = os.path.join(\"..\", \"..\", \"Data\")\n",
    "file_path = [\n",
    "    os.path.join(file_path, file)\n",
    "    for file in os.listdir(file_path)\n",
    "    if file.startswith(\"applemobilitytrends\")\n",
    "]\n",
    "\n",
    "postgres.create_tables_apple()\n"
   ]
  },
  {
   "cell_type": "code",
   "execution_count": 28,
   "id": "6b157a59-8de4-45c8-9a1d-7ea36b6b65f6",
   "metadata": {
    "scrolled": true,
    "tags": []
   },
   "outputs": [],
   "source": [
    "df = pd.read_csv(filepath_or_buffer=file_path[0], low_memory=False)\n",
    "\n",
    "dates = df[df.columns[6:]]\n",
    "nulls = dates[dates.isna().all(axis=1)].index\n",
    "df.drop(index=nulls, inplace=True)\n",
    "\n",
    "countries_util = (\n",
    "    df.loc[:, (\"region\", \"geo_type\", \"alternative_name\", \"sub-region\", \"country\")]\n",
    "    .drop_duplicates().sort_values(by='region')\n",
    "    .reset_index(drop=True)\n",
    ")\n",
    "\n",
    "df.drop(columns=[\"geo_type\", \"alternative_name\", \"country\", \"sub-region\"], inplace=True)\n"
   ]
  },
  {
   "cell_type": "code",
   "execution_count": 29,
   "id": "12bed28a-fa27-455a-a9e9-25dbdcd49eb8",
   "metadata": {
    "tags": []
   },
   "outputs": [
    {
     "name": "stdout",
     "output_type": "stream",
     "text": [
      "=================================================\n",
      "Creating connection to the PostgreSQL database...\n",
      "=================================================\n"
     ]
    }
   ],
   "source": [
    "inter_df = helper.rearrange_df(df)\n",
    "inter_df = inter_df[inter_df[\"date\"] > str(res[\"date\"].values[0])]\n",
    "\n",
    "res = helper.last_entry(\"mobility_stats_apple\")"
   ]
  },
  {
   "cell_type": "code",
   "execution_count": 30,
   "id": "f661c4e9-26e2-432f-85d4-68f951dc72d2",
   "metadata": {},
   "outputs": [
    {
     "name": "stdout",
     "output_type": "stream",
     "text": [
      "=================================================\n",
      "Creating connection to the PostgreSQL database...\n",
      "=================================================\n"
     ]
    }
   ],
   "source": [
    "query = \"select * from countries_apple\"\n",
    "existing_countries = (\n",
    "    pd.read_sql_query(sql=query, con=helper._make_connection().connect())\n",
    "    .sort_values(by=\"region\")\n",
    "    .reset_index(drop=True)\n",
    ")"
   ]
  },
  {
   "cell_type": "code",
   "execution_count": 31,
   "id": "15cda2bc",
   "metadata": {},
   "outputs": [
    {
     "data": {
      "text/html": [
       "<div>\n",
       "<style scoped>\n",
       "    .dataframe tbody tr th:only-of-type {\n",
       "        vertical-align: middle;\n",
       "    }\n",
       "\n",
       "    .dataframe tbody tr th {\n",
       "        vertical-align: top;\n",
       "    }\n",
       "\n",
       "    .dataframe thead th {\n",
       "        text-align: right;\n",
       "    }\n",
       "</style>\n",
       "<table border=\"1\" class=\"dataframe\">\n",
       "  <thead>\n",
       "    <tr style=\"text-align: right;\">\n",
       "      <th></th>\n",
       "      <th>region</th>\n",
       "      <th>geo_type</th>\n",
       "      <th>alternative_name</th>\n",
       "      <th>sub-region</th>\n",
       "      <th>country</th>\n",
       "    </tr>\n",
       "  </thead>\n",
       "  <tbody>\n",
       "    <tr>\n",
       "      <th>0</th>\n",
       "      <td>Aachen</td>\n",
       "      <td>city</td>\n",
       "      <td>None</td>\n",
       "      <td>North Rhine-Westphalia</td>\n",
       "      <td>Germany</td>\n",
       "    </tr>\n",
       "    <tr>\n",
       "      <th>1</th>\n",
       "      <td>Abbeville County</td>\n",
       "      <td>county</td>\n",
       "      <td>None</td>\n",
       "      <td>South Carolina</td>\n",
       "      <td>United States</td>\n",
       "    </tr>\n",
       "    <tr>\n",
       "      <th>2</th>\n",
       "      <td>Abruzzo Region</td>\n",
       "      <td>sub-region</td>\n",
       "      <td>None</td>\n",
       "      <td>None</td>\n",
       "      <td>Italy</td>\n",
       "    </tr>\n",
       "    <tr>\n",
       "      <th>3</th>\n",
       "      <td>Acadia Parish</td>\n",
       "      <td>county</td>\n",
       "      <td>None</td>\n",
       "      <td>Louisiana</td>\n",
       "      <td>United States</td>\n",
       "    </tr>\n",
       "    <tr>\n",
       "      <th>4</th>\n",
       "      <td>Accomack County</td>\n",
       "      <td>county</td>\n",
       "      <td>None</td>\n",
       "      <td>Virginia</td>\n",
       "      <td>United States</td>\n",
       "    </tr>\n",
       "  </tbody>\n",
       "</table>\n",
       "</div>"
      ],
      "text/plain": [
       "             region    geo_type alternative_name              sub-region  \\\n",
       "0            Aachen        city             None  North Rhine-Westphalia   \n",
       "1  Abbeville County      county             None          South Carolina   \n",
       "2    Abruzzo Region  sub-region             None                    None   \n",
       "3     Acadia Parish      county             None               Louisiana   \n",
       "4   Accomack County      county             None                Virginia   \n",
       "\n",
       "         country  \n",
       "0        Germany  \n",
       "1  United States  \n",
       "2          Italy  \n",
       "3  United States  \n",
       "4  United States  "
      ]
     },
     "execution_count": 31,
     "metadata": {},
     "output_type": "execute_result"
    }
   ],
   "source": [
    "existing_countries.head()"
   ]
  },
  {
   "cell_type": "code",
   "execution_count": 43,
   "id": "fa7d5e69",
   "metadata": {},
   "outputs": [],
   "source": [
    "countries_util = pd.concat([countries_util, existing_countries]).drop_duplicates(\n",
    "    keep=False\n",
    ")"
   ]
  },
  {
   "cell_type": "code",
   "execution_count": 45,
   "id": "06d096dc-bb05-4db9-99a1-b274916e0ba2",
   "metadata": {
    "scrolled": true
   },
   "outputs": [
    {
     "name": "stdout",
     "output_type": "stream",
     "text": [
      "=================================================\n",
      "Creating connection to the PostgreSQL database...\n",
      "=================================================\n",
      "=================================================\n",
      "Creating connection to the PostgreSQL database...\n",
      "=================================================\n"
     ]
    }
   ],
   "source": [
    "postgres.import_data(countries_util, \"countries_apple\")\n",
    "postgres.import_data(inter_df, \"mobility_stats_apple\")\n"
   ]
  },
  {
   "cell_type": "code",
   "execution_count": 46,
   "id": "4f3d3c04-0972-4c1b-b195-0b5d3ef8e5e9",
   "metadata": {
    "tags": []
   },
   "outputs": [],
   "source": [
    "os.remove(file_path[0])\n"
   ]
  }
 ],
 "metadata": {
  "kernelspec": {
   "display_name": "Python 3 (ipykernel)",
   "language": "python",
   "name": "python3"
  },
  "language_info": {
   "codemirror_mode": {
    "name": "ipython",
    "version": 3
   },
   "file_extension": ".py",
   "mimetype": "text/x-python",
   "name": "python",
   "nbconvert_exporter": "python",
   "pygments_lexer": "ipython3",
   "version": "3.9.12"
  }
 },
 "nbformat": 4,
 "nbformat_minor": 5
}
