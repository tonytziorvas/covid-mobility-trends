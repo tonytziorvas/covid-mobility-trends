{
 "cells": [
  {
   "cell_type": "code",
   "execution_count": 1,
   "id": "72ccba35",
   "metadata": {},
   "outputs": [],
   "source": [
    "%load_ext autoreload\n",
    "%autoreload 2\n",
    "\n",
    "import postgres\n",
    "import helper\n",
    "import os"
   ]
  },
  {
   "cell_type": "code",
   "execution_count": 12,
   "id": "58404aad",
   "metadata": {
    "scrolled": true
   },
   "outputs": [
    {
     "name": "stdout",
     "output_type": "stream",
     "text": [
      "Connecting to the PostgreSQL database...\n",
      "========================================\n",
      "2022-03-08 13:05:39,361 INFO sqlalchemy.engine.Engine select pg_catalog.version()\n",
      "2022-03-08 13:05:39,361 INFO sqlalchemy.engine.Engine [raw sql] {}\n",
      "2022-03-08 13:05:39,362 INFO sqlalchemy.engine.Engine select current_schema()\n",
      "2022-03-08 13:05:39,362 INFO sqlalchemy.engine.Engine [raw sql] {}\n",
      "2022-03-08 13:05:39,363 INFO sqlalchemy.engine.Engine show standard_conforming_strings\n",
      "2022-03-08 13:05:39,364 INFO sqlalchemy.engine.Engine [raw sql] {}\n",
      "2022-03-08 13:05:39,364 INFO sqlalchemy.engine.Engine BEGIN (implicit)\n",
      "2022-03-08 13:05:39,425 INFO sqlalchemy.engine.Engine select relname from pg_class c join pg_namespace n on n.oid=c.relnamespace where pg_catalog.pg_table_is_visible(c.oid) and relname=%(name)s\n",
      "2022-03-08 13:05:39,426 INFO sqlalchemy.engine.Engine [generated in 0.00052s] {'name': 'countries_apple'}\n",
      "=======\n",
      "Creating table countries_apple...\n",
      "2022-03-08 13:05:39,429 INFO sqlalchemy.engine.Engine BEGIN (implicit)\n",
      "2022-03-08 13:05:39,430 INFO sqlalchemy.engine.Engine \n",
      "CREATE TABLE countries_apple (\n",
      "\tregion VARCHAR(48), \n",
      "\tgeo_type VARCHAR(14), \n",
      "\talternative_name VARCHAR(85), \n",
      "\t\"sub-region\" VARCHAR(33), \n",
      "\tcountry VARCHAR(20)\n",
      ")\n",
      "\n",
      "\n",
      "2022-03-08 13:05:39,431 INFO sqlalchemy.engine.Engine [no key 0.00043s] {}\n",
      "2022-03-08 13:05:39,434 INFO sqlalchemy.engine.Engine COMMIT\n",
      "2022-03-08 13:05:39,437 INFO sqlalchemy.engine.Engine select relname from pg_class c join pg_namespace n on n.oid=c.relnamespace where pg_catalog.pg_table_is_visible(c.oid) and relname=%(name)s\n",
      "2022-03-08 13:05:39,437 INFO sqlalchemy.engine.Engine [cached since 0.01204s ago] {'name': 'mobility_stats_apple'}\n",
      "=======\n",
      "Creating table mobility_stats_apple...\n",
      "2022-03-08 13:05:39,439 INFO sqlalchemy.engine.Engine BEGIN (implicit)\n",
      "2022-03-08 13:05:39,440 INFO sqlalchemy.engine.Engine \n",
      "CREATE TABLE mobility_stats_apple (\n",
      "\tregion VARCHAR(48) NOT NULL, \n",
      "\tdate DATE NOT NULL, \n",
      "\tdriving NUMERIC(6, 2), \n",
      "\ttransit NUMERIC(6, 2), \n",
      "\twalking NUMERIC(6, 2), \n",
      "\tPRIMARY KEY (region, date)\n",
      ")\n",
      "\n",
      "\n",
      "2022-03-08 13:05:39,440 INFO sqlalchemy.engine.Engine [no key 0.00049s] {}\n",
      "2022-03-08 13:05:39,446 INFO sqlalchemy.engine.Engine COMMIT\n",
      "2022-03-08 13:05:39,447 INFO sqlalchemy.engine.Engine COMMIT\n",
      "2022-03-08 13:05:39,447 INFO sqlalchemy.engine.Engine select relname from pg_class c join pg_namespace n on n.oid=c.relnamespace where pg_catalog.pg_table_is_visible(c.oid) and relname=%(name)s\n",
      "2022-03-08 13:05:39,448 INFO sqlalchemy.engine.Engine [cached since 0.02251s ago] {'name': 'countries_apple'}\n",
      "=======\n",
      "Table countries_apple already exists! Skipping...\n",
      "2022-03-08 13:05:39,449 INFO sqlalchemy.engine.Engine select relname from pg_class c join pg_namespace n on n.oid=c.relnamespace where pg_catalog.pg_table_is_visible(c.oid) and relname=%(name)s\n",
      "2022-03-08 13:05:39,450 INFO sqlalchemy.engine.Engine [cached since 0.02433s ago] {'name': 'mobility_stats_apple'}\n",
      "=======\n",
      "Table mobility_stats_apple already exists! Skipping...\n"
     ]
    }
   ],
   "source": [
    "file_path = '../../Data'\n",
    "\n",
    "for file in os.listdir(file_path):\n",
    "    if file.startswith('applemobilitytrends'):\n",
    "        file_path = os.path.join(file_path ,file)\n",
    "\n",
    "postgres.create_tables_apple()\n",
    "\n",
    "df = helper.pd.read_csv(filepath_or_buffer=file_path, low_memory=False)\n",
    "\n",
    "dates = df[df.columns[6:]]\n",
    "nulls = dates[dates.isna().all(axis=1)].index\n",
    "df.drop(index=nulls, inplace=True)\n",
    "\n",
    "countries_util = df[['geo_type', 'region', 'alternative_name', 'sub-region', 'country']].drop_duplicates()\n",
    "\n",
    "countries_util = countries_util[['region', 'geo_type', 'alternative_name', 'sub-region', 'country']]\n",
    "\n",
    "df = df.drop(labels=['geo_type', 'alternative_name', 'country', 'sub-region'], axis=1)\n",
    "df.head()\n",
    "\n",
    "inter_df = helper.rearrange_df(df)\n",
    "\n",
    "postgres.import_data(countries_util, 'countries_apple')\n",
    "postgres.import_data(inter_df, 'mobility_stats_apple')\n",
    "\n",
    "os.remove(file_path)"
   ]
  }
 ],
 "metadata": {
  "kernelspec": {
   "display_name": "PyTorch",
   "language": "python",
   "name": "pytorch"
  },
  "language_info": {
   "codemirror_mode": {
    "name": "ipython",
    "version": 3
   },
   "file_extension": ".py",
   "mimetype": "text/x-python",
   "name": "python",
   "nbconvert_exporter": "python",
   "pygments_lexer": "ipython3",
   "version": "3.9.7"
  }
 },
 "nbformat": 4,
 "nbformat_minor": 5
}
