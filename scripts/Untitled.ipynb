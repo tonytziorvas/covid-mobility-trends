{
 "cells": [
  {
   "cell_type": "markdown",
   "id": "b47eff48-3aa2-42a0-8314-cd0f4c0f3fd4",
   "metadata": {},
   "source": [
    "# Import Libraries"
   ]
  },
  {
   "cell_type": "code",
   "execution_count": null,
   "id": "0bf58d75-d65c-413b-92f0-011bba6a49cf",
   "metadata": {},
   "outputs": [],
   "source": [
    "%load_ext autoreload\n",
    "%autoreload 2"
   ]
  },
  {
   "cell_type": "markdown",
   "id": "d54373a5-2828-4840-bd35-9873c9670020",
   "metadata": {},
   "source": [
    "## Data Manipulation"
   ]
  },
  {
   "cell_type": "code",
   "execution_count": null,
   "id": "e3422bff-f28b-4802-b121-48ae0259c243",
   "metadata": {},
   "outputs": [],
   "source": [
    "import datetime\n",
    "import numpy as np\n",
    "import pandas as pd\n",
    "import matplotlib.pyplot as plt\n",
    "\n",
    "from statsmodels.tsa.stattools import adfuller\n",
    "from statsmodels.graphics.tsaplots import plot_acf, plot_pacf\n",
    "from statsmodels.tsa.statespace.sarimax import SARIMAX\n",
    "from statsmodels.tsa.seasonal import seasonal_decompose\n",
    "\n",
    "import helper"
   ]
  },
  {
   "cell_type": "markdown",
   "id": "934fb151-824e-42d7-961c-1bb937759293",
   "metadata": {},
   "source": [
    "## Data Visualization"
   ]
  },
  {
   "cell_type": "code",
   "execution_count": null,
   "id": "afdba31f-24f5-4502-ada8-ce8b9a8bcd30",
   "metadata": {},
   "outputs": [],
   "source": [
    "import plotly.express as px\n",
    "import plotly.offline as po\n",
    "import plotly.graph_objects as go"
   ]
  },
  {
   "cell_type": "code",
   "execution_count": null,
   "id": "e5561d3a-e6dd-4668-9724-2b65f6921d4b",
   "metadata": {},
   "outputs": [],
   "source": [
    "PLOT_WIDTH, PLOT_HEIGHT = (1000, 500)"
   ]
  },
  {
   "cell_type": "code",
   "execution_count": null,
   "id": "2e121bbc-e1fb-4729-8e56-ef21645a180e",
   "metadata": {},
   "outputs": [],
   "source": [
    "po.init_notebook_mode(connected=True)\n",
    "pd.options.plotting.backend = \"plotly\""
   ]
  },
  {
   "cell_type": "code",
   "execution_count": null,
   "id": "2b62527b-a675-4461-ae38-f70ce3f92969",
   "metadata": {},
   "outputs": [],
   "source": [
    "helper.__init()"
   ]
  },
  {
   "cell_type": "markdown",
   "id": "5ac03b13-0529-4d51-a976-e376342b3f4e",
   "metadata": {},
   "source": [
    "# Data Preprocessing"
   ]
  },
  {
   "cell_type": "markdown",
   "id": "f1e03b43-670e-4442-9856-8d8916614093",
   "metadata": {},
   "source": [
    "## Load Data"
   ]
  },
  {
   "cell_type": "code",
   "execution_count": null,
   "id": "6c2538db-590e-4ce0-b3a7-a18cb99043c9",
   "metadata": {
    "tags": []
   },
   "outputs": [],
   "source": [
    "google = helper.fetch_data_from_database(table=\"mobility_stats_google\", where_column=\"country_region_code\", where_value=\"GR\", order_by='date')\n",
    "# covid_df = helper.fetch_data_from_database(table=\"covid_data_greece\")"
   ]
  },
  {
   "cell_type": "markdown",
   "id": "ab555419-79f9-48a8-8e4f-0ba82c9679ad",
   "metadata": {},
   "source": [
    "## Data Cleaning"
   ]
  },
  {
   "cell_type": "code",
   "execution_count": null,
   "id": "05a3d179-f368-4043-8162-529d75d34566",
   "metadata": {},
   "outputs": [],
   "source": [
    "google = helper.clean_df(google)\n",
    "google.drop(labels='country_region_code', axis=1, inplace=True)"
   ]
  },
  {
   "cell_type": "code",
   "execution_count": null,
   "id": "f7a6b4b0-f784-4baf-b23b-68497bc4f3ad",
   "metadata": {},
   "outputs": [],
   "source": [
    "# Drop samples that have more than 20% of missing values\n",
    "google = google.dropna(thresh=google.shape[1] * 0.8, axis=0).reset_index(drop=True)"
   ]
  },
  {
   "cell_type": "code",
   "execution_count": null,
   "id": "365ad1ae-105f-4f7d-ad2d-fb4f3ce15f26",
   "metadata": {},
   "outputs": [],
   "source": [
    "# Fill remaining null values with forward-fill method\n",
    "num_cols = [col for col in google.columns[2:]]\n",
    "google[num_cols] = google.loc[:, num_cols].fillna(method='ffill')"
   ]
  },
  {
   "cell_type": "code",
   "execution_count": null,
   "id": "22723127-c81d-4d52-883b-3212569d2f04",
   "metadata": {},
   "outputs": [],
   "source": [
    "# Aggregate all regions by date and get the mean value\n",
    "google = google.groupby(by='date', as_index=False).mean()"
   ]
  },
  {
   "cell_type": "code",
   "execution_count": null,
   "id": "9bafc3cb-2aa6-402e-a175-2481f949120b",
   "metadata": {},
   "outputs": [],
   "source": [
    "# Augment data by adding date-specific columns\n",
    "google['month'] = google['date'].dt.month\n",
    "google['year'] = google['date'].dt.year\n",
    "google['day_name'] = google.date.dt.day_name()"
   ]
  },
  {
   "cell_type": "markdown",
   "id": "7d96dbca-9257-4c71-b84a-31ca0d903889",
   "metadata": {
    "tags": []
   },
   "source": [
    "## Check skewness of the features"
   ]
  },
  {
   "cell_type": "code",
   "execution_count": null,
   "id": "7e6441f3-80e5-4765-8bf1-d5be0a113fc6",
   "metadata": {},
   "outputs": [],
   "source": [
    "num_cols = num_cols[:-2]\n",
    "google[num_cols].skew().sort_values(ascending=False)"
   ]
  },
  {
   "cell_type": "code",
   "execution_count": null,
   "id": "99d91acf-b42f-489a-86b5-7644dae7479d",
   "metadata": {},
   "outputs": [],
   "source": [
    "skewed_cols = [col for col in num_cols if np.abs(google[col].skew()) > 0.5]"
   ]
  },
  {
   "cell_type": "code",
   "execution_count": null,
   "id": "d0a407e1-f06f-4574-9310-7b7e6277feed",
   "metadata": {},
   "outputs": [],
   "source": [
    "fig = px.histogram(\n",
    "    data_frame=google,\n",
    "    x=skewed_cols,\n",
    "    histnorm='percent',\n",
    "    nbins=50,\n",
    "    facet_col='variable',\n",
    "    facet_col_wrap=3,\n",
    "    facet_col_spacing=0.03,\n",
    "    width=len(skewed_cols) * 600,\n",
    "    height=PLOT_HEIGHT,\n",
    ")\n",
    "fig.update_layout(\n",
    "    showlegend=False,\n",
    "    bargap=0.2,\n",
    "    yaxis=dict(title_text=\"Frequency\"),\n",
    ")\n",
    "fig.update_xaxes(title_text=\"Value\", position=0.5)\n",
    "fig.update_yaxes(matches=None, showticklabels=True, ticksuffix=\"%\")\n",
    "fig.for_each_annotation(\n",
    "    lambda a: a.update(\n",
    "        text=helper.TITLES[google.columns.get_loc(a.text.split(\"=\")[-1]) - 1]\n",
    "    )\n",
    ")\n",
    "\n",
    "fig.show()\n",
    "fig.write_image(\"../plots/Skewed Features (Histogram).svg\")"
   ]
  },
  {
   "cell_type": "markdown",
   "id": "5fb1df59-eeed-448d-84b3-37fa7ae14f3d",
   "metadata": {},
   "source": [
    "## Focus on Parks and Outdoor Spaces"
   ]
  },
  {
   "cell_type": "code",
   "execution_count": null,
   "id": "c27a1d54-9224-4ebc-9e92-0618ebf259dd",
   "metadata": {},
   "outputs": [],
   "source": [
    "ts_parks = google[['date', 'parks_percent_change_from_baseline']].copy()\n",
    "ts_parks.set_index('date', inplace=True)\n",
    "ts_parks.index.freq = 'D'"
   ]
  },
  {
   "cell_type": "code",
   "execution_count": null,
   "id": "0463f903-d839-4a4c-8338-ffd77e1d16aa",
   "metadata": {},
   "outputs": [],
   "source": [
    "px.box(\n",
    "    ts_parks, x='parks_percent_change_from_baseline', \n",
    "    width=PLOT_WIDTH, height=PLOT_HEIGHT,\n",
    "    labels={'parks_percent_change_from_baseline': helper.TITLES[2]}\n",
    ")"
   ]
  },
  {
   "cell_type": "code",
   "execution_count": null,
   "id": "c91d5200-508f-49a5-9730-e76d9ce267d1",
   "metadata": {},
   "outputs": [],
   "source": [
    "# Standardize Data \n",
    "z_data = (ts_parks - ts_parks.mean()) / ts_parks.std() \n",
    "shifted_z = z_data - z_data.shift(30)"
   ]
  },
  {
   "cell_type": "markdown",
   "id": "156d20e4-ed62-49c7-a9a5-dda0fd9a30c9",
   "metadata": {
    "tags": []
   },
   "source": [
    "### Seasonal Decomposition"
   ]
  },
  {
   "cell_type": "code",
   "execution_count": null,
   "id": "af2c58c4-6bd6-4669-ad46-1a7a344b0bfd",
   "metadata": {},
   "outputs": [],
   "source": [
    "from plotly.subplots import make_subplots"
   ]
  },
  {
   "cell_type": "code",
   "execution_count": null,
   "id": "bcf24c80-6467-4023-8af9-1a11d86ad131",
   "metadata": {},
   "outputs": [],
   "source": [
    "result = seasonal_decompose(x=z_data, model='additive', period=30, two_sided=False)\n",
    "trend = result.trend.to_frame()\n",
    "seasonality = result.seasonal.to_frame()\n",
    "residual = result.resid.to_frame()"
   ]
  },
  {
   "cell_type": "code",
   "execution_count": null,
   "id": "6f60032d-c301-472c-a1ae-82173c88a97f",
   "metadata": {
    "jupyter": {
     "source_hidden": true
    },
    "tags": []
   },
   "outputs": [],
   "source": [
    "fig = make_subplots(4, 1)\n",
    "index = z_data.index\n",
    "fig.add_trace(\n",
    "    go.Scatter(\n",
    "        x=index, y=z_data['parks_percent_change_from_baseline'],\n",
    "        mode='lines',\n",
    "        name='Observed',\n",
    "    ),\n",
    "    row=1, col=1   \n",
    ")\n",
    "\n",
    "fig.add_trace(\n",
    "    go.Scatter(\n",
    "        x=index, y=trend['trend'],\n",
    "        mode='lines',\n",
    "        name='Trend'\n",
    "    ),\n",
    "    row=2, col=1   \n",
    ")\n",
    "\n",
    "fig.add_trace(\n",
    "     go.Scatter(\n",
    "         x=index, y=seasonality['seasonal'],\n",
    "         mode='lines',\n",
    "         name='Seasonality'\n",
    "    ),\n",
    "    row=3, col=1   \n",
    ")\n",
    "\n",
    "fig.add_trace(\n",
    "     go.Scatter(\n",
    "         x=index, y=residual['resid'],\n",
    "         mode='lines',\n",
    "         name='Residual'\n",
    "    ),\n",
    "    row=4, col=1   \n",
    ")\n",
    "\n",
    "fig.update_layout(\n",
    "    title=dict(\n",
    "        text=\"Seasonal Decomposition\",\n",
    "        x=0.5,\n",
    "        xanchor='center',\n",
    "        yanchor='top',\n",
    "        font=dict(\n",
    "            family=\"Courier New, monospace\",\n",
    "            size=25,\n",
    "            color=\"RebeccaPurple\"\n",
    "        ),\n",
    "    ),\n",
    "    width=PLOT_WIDTH * 1.3, height=PLOT_HEIGHT * 2.5,\n",
    ")"
   ]
  },
  {
   "cell_type": "code",
   "execution_count": null,
   "id": "95aef8c1-2aa9-4676-8966-289e97521d59",
   "metadata": {},
   "outputs": [],
   "source": [
    "de_trended = (z_data['parks_percent_change_from_baseline'] - trend['trend']).to_frame()"
   ]
  },
  {
   "cell_type": "code",
   "execution_count": null,
   "id": "027c3a19-2ebd-426e-a096-a6984ee53357",
   "metadata": {},
   "outputs": [],
   "source": [
    "fig = go.Figure()\n",
    "fig.add_traces(\n",
    "    [\n",
    "        go.Scatter(x=ts_parks.index.values, y=z_data['parks_percent_change_from_baseline'], name=\"raw data\"),\n",
    "        go.Scatter(x=ts_parks.index.values, y=trend['parks_percent_change_from_baseline'], name=\"rolling mean\"),\n",
    "        go.Scatter(x=ts_parks.index.values, y=z_data.rolling(window=30).std()['parks_percent_change_from_baseline'], name=\"rolling std\"),\n",
    "    ]\n",
    ")\n",
    "fig.update_layout(\n",
    "    xaxis=dict(title=\"Date\", tickformat = '%b %Y'),\n",
    "    title=helper.TITLES[2],\n",
    "    width=PLOT_WIDTH, height=PLOT_HEIGHT\n",
    ")\n",
    "fig.show()\n",
    "fig.write_image(\"../plots/Parks/Rolling Statistics.svg\")"
   ]
  },
  {
   "cell_type": "code",
   "execution_count": null,
   "id": "7fb34d9b-f651-430d-ae11-6ae3622f9321",
   "metadata": {},
   "outputs": [],
   "source": [
    "fig = z_data.diff().plot(\n",
    "    kind='line',\n",
    "    width=PLOT_WIDTH, height=PLOT_HEIGHT,\n",
    "    title=helper.TITLES[2],\n",
    "    labels={'date': 'Data', 'value': ''}\n",
    ")\n",
    "fig.update_layout(showlegend=False)\n",
    "\n",
    "fig.show()"
   ]
  },
  {
   "cell_type": "code",
   "execution_count": null,
   "id": "c15725b7-4495-4efa-87e8-047c35f3164b",
   "metadata": {},
   "outputs": [],
   "source": [
    "fig = px.box(\n",
    "    google, \n",
    "    x='month',\n",
    "    y='parks_percent_change_from_baseline',\n",
    "    color='month', \n",
    "    width=PLOT_WIDTH, height=PLOT_HEIGHT,\n",
    "    title='Month-wise Mobility on Parks'\n",
    ")\n",
    "\n",
    "fig.update_layout(\n",
    "    xaxis=dict(\n",
    "        tickmode='array',\n",
    "        tickvals=list(range(1,13)),\n",
    "        ticktext=[datetime.date(2000, i, 1).strftime('%b') for i in range(1, 13)],\n",
    "        title_text='Months'\n",
    "    ),\n",
    "    yaxis=dict(title_text=helper.TITLES[2])\n",
    ")\n",
    "\n",
    "fig.show()\n",
    "fig.write_image('../plots/Parks/Monthly Box Plot.svg')"
   ]
  },
  {
   "cell_type": "markdown",
   "id": "a6f371e1-79db-4b1a-9e60-6a3297438912",
   "metadata": {},
   "source": [
    "## Check Stationarity"
   ]
  },
  {
   "cell_type": "markdown",
   "id": "eab6afbe-41df-4cd1-bbe5-205f18d69f74",
   "metadata": {
    "tags": []
   },
   "source": [
    "### Augmented Dickey-Fuller Test"
   ]
  },
  {
   "cell_type": "code",
   "execution_count": null,
   "id": "636468d1-33ce-454b-ac38-7f30c6752423",
   "metadata": {},
   "outputs": [],
   "source": [
    "ts_diff = pd.Series(z_data['parks_percent_change_from_baseline'])"
   ]
  },
  {
   "cell_type": "code",
   "execution_count": null,
   "id": "33a9e7a5-1c92-4303-bccf-c6eb16efd176",
   "metadata": {},
   "outputs": [],
   "source": [
    "d = 0\n",
    "\n",
    "while helper.test_stationarity(ts_diff, nlags=d, confidence=0.01):\n",
    "    ts_diff = ts_diff.diff().dropna()\n",
    "    d += 1"
   ]
  },
  {
   "cell_type": "markdown",
   "id": "10d1cc4e-4900-4a65-91ca-8a1f383c9509",
   "metadata": {
    "tags": []
   },
   "source": [
    "### Autocorrelation plots (ACF & PACF)"
   ]
  },
  {
   "cell_type": "code",
   "execution_count": null,
   "id": "9fbde012-0b93-474c-94f0-9d31491de105",
   "metadata": {},
   "outputs": [],
   "source": [
    "FIG_SIZE = (20, 7)"
   ]
  },
  {
   "cell_type": "code",
   "execution_count": null,
   "id": "321de6ad-473b-41f6-8cec-d602e5180dd7",
   "metadata": {},
   "outputs": [],
   "source": [
    "fig, ax = plt.subplots(figsize=FIG_SIZE)\n",
    "plot_acf(ts_diff, ax=ax, lags=50, zero=False)\n",
    "plt.show();"
   ]
  },
  {
   "cell_type": "code",
   "execution_count": null,
   "id": "2043c37e-cbfd-43e4-9f1f-8c236e6ad0db",
   "metadata": {},
   "outputs": [],
   "source": [
    "fig, ax = plt.subplots(figsize=FIG_SIZE)\n",
    "plot_pacf(ts_diff, ax=ax, lags=50, method='ywm', zero=False)\n",
    "plt.show()"
   ]
  },
  {
   "cell_type": "code",
   "execution_count": null,
   "id": "2bdbc664-6d70-4e9e-8c75-549581da4477",
   "metadata": {},
   "outputs": [],
   "source": [
    "order = (7, 1, 7)\n",
    "seasonal_order = (7, 1, 0, 30)\n",
    "\n",
    "model = SARIMAX(endog=ts_diff, order=order, seasonal_order=seasonal_order)\n",
    "model.fit(method='powell')"
   ]
  },
  {
   "cell_type": "code",
   "execution_count": null,
   "id": "821e6d9e-2154-456d-9c5b-932c488b97fb",
   "metadata": {},
   "outputs": [],
   "source": [
    "print(model.summary())"
   ]
  },
  {
   "cell_type": "code",
   "execution_count": null,
   "id": "84cc14b6-2337-42af-9615-6007fea27b90",
   "metadata": {},
   "outputs": [],
   "source": [
    "res = model.resid\n",
    "fig, ax = plt.subplots(2,1, figsize=(20, 10))\n",
    "fig = plot_acf(res, lags=50, ax=ax[0])\n",
    "fig = plot_pacf(res, lags=50, ax=ax[1], method='ywm')\n",
    "plt.show()"
   ]
  },
  {
   "cell_type": "markdown",
   "id": "765a6620",
   "metadata": {
    "jp-MarkdownHeadingCollapsed": true,
    "tags": []
   },
   "source": [
    "# Focus on first wave period of the pandemic"
   ]
  },
  {
   "cell_type": "code",
   "execution_count": null,
   "id": "38563c49",
   "metadata": {},
   "outputs": [],
   "source": [
    "google_daily = google.groupby(by=\"date\").mean().reset_index()\n",
    "\n",
    "START_DATE = \"2020-03-23\"\n",
    "END_DATE = \"2020-05-04\"\n",
    "\n",
    "fw_trends = helper.select_daterange(google_daily, START_DATE, END_DATE).reset_index(drop=True)\n",
    "fw_stats = helper.select_daterange(covid_df, START_DATE, END_DATE).reset_index(drop=True)"
   ]
  },
  {
   "cell_type": "markdown",
   "id": "72e2621a-04aa-4e63-b913-72733d8395da",
   "metadata": {
    "tags": []
   },
   "source": [
    "## Histograms of the features"
   ]
  },
  {
   "cell_type": "code",
   "execution_count": null,
   "id": "d1e03ada-e22f-4a16-aa52-1082cf9bcbdd",
   "metadata": {},
   "outputs": [],
   "source": [
    "cols_of_interest = [col for col in fw_trends.columns[1:]]\n",
    "\n",
    "fw_trends[cols_of_interest].plot.hist(subplots=True, \n",
    "                                      bins=25, \n",
    "                                      figsize=(20, 10), layout=(-1, 3), \n",
    "                                      edgecolor='black', \n",
    "                                      grid=False,\n",
    "                                      sharex=True,\n",
    "                                      legend=False, \n",
    "                                      title=helper.TITLES\n",
    "                              );"
   ]
  },
  {
   "cell_type": "markdown",
   "id": "3cbca91c-d06b-49af-8201-7df0115ddd1f",
   "metadata": {},
   "source": [
    "## Skewness"
   ]
  },
  {
   "cell_type": "code",
   "execution_count": null,
   "id": "44cd0291",
   "metadata": {},
   "outputs": [],
   "source": [
    "# Check the skewness for each of the features\n",
    "fw_trends[fw_trends.columns].skew(skipna=True, numeric_only=True).sort_values(ascending=False)"
   ]
  },
  {
   "cell_type": "markdown",
   "id": "b3b722a5-3de4-49ab-aad1-cd077e968c76",
   "metadata": {},
   "source": [
    "### TODO: Check if normalizing is needed"
   ]
  },
  {
   "cell_type": "code",
   "execution_count": null,
   "id": "dafeea43-917a-4dbf-8d04-8db3a079ae64",
   "metadata": {
    "tags": []
   },
   "outputs": [],
   "source": [
    "skewed = fw_trends[['retail_and_recreation_percent_change_from_baseline', 'workplaces_percent_change_from_baseline']]\n",
    "(skewed - skewed.min()) / (skewed.max() - skewed.min())"
   ]
  },
  {
   "cell_type": "markdown",
   "id": "36769d4e-1f18-40e3-a1b6-da11388f48c0",
   "metadata": {},
   "source": [
    "## Feature Correlation"
   ]
  },
  {
   "cell_type": "code",
   "execution_count": null,
   "id": "dff0afed",
   "metadata": {},
   "outputs": [],
   "source": [
    "# Using Spearman rank correlation instead of Pearson to deal with outliers\n",
    "spearman_corr = fw_trends.iloc[:, 1:].corr(method='spearman')\n",
    "\n",
    "fig = helper.px.imshow(spearman_corr,\n",
    "                       color_continuous_scale='RdBu_r', text_auto='.2f',\n",
    "                       height=600\n",
    "                      )\n",
    "fig.update_layout(\n",
    "    title='Feature Relationships',\n",
    "    xaxis=dict(\n",
    "        tickmode='array',\n",
    "        tickvals=fw_trends.columns[1:],\n",
    "        ticktext=helper.TITLES,\n",
    "        tickangle=-30\n",
    "    ),\n",
    "    yaxis=dict(\n",
    "        tickmode='array',\n",
    "        tickvals=fw_trends.columns[1:],\n",
    "        ticktext=helper.TITLES,\n",
    "    )\n",
    ")\n",
    "fig.show()"
   ]
  },
  {
   "cell_type": "markdown",
   "id": "7a6c1de0-3108-4f45-8786-915a730934e7",
   "metadata": {},
   "source": [
    "### Examine the distribution of the features with the highest correlation"
   ]
  },
  {
   "cell_type": "code",
   "execution_count": null,
   "id": "fb1679cc",
   "metadata": {},
   "outputs": [],
   "source": [
    "fw_trends[\n",
    "    [\n",
    "        \"grocery_and_pharmacy_percent_change_from_baseline\",\n",
    "        \"transit_stations_percent_change_from_baseline\",\n",
    "    ]\n",
    "].plot.hist(figsize=(10, 8), alpha=0.5);\n"
   ]
  },
  {
   "cell_type": "markdown",
   "id": "2f2d14e4-4726-4a14-ae18-f845a14b78bd",
   "metadata": {},
   "source": [
    "### Scatterplot of the features with LOWESS trendline"
   ]
  },
  {
   "cell_type": "code",
   "execution_count": null,
   "id": "f5706e99",
   "metadata": {},
   "outputs": [],
   "source": [
    "def trendline_scatter(df, X, Y, trend_line):\n",
    "    fig = helper.px.scatter(data_frame=df, x=X, y=Y, trendline=trend_line)\n",
    "    x_index=df.columns.get_loc(X) - 1\n",
    "    y_index=df.columns.get_loc(Y) - 1\n",
    "    fig.update_layout(\n",
    "        xaxis_title_text=helper.TITLES[x_index], \n",
    "        yaxis_title_text=helper.TITLES[y_index],\n",
    "        height=500\n",
    "    )\n",
    "\n",
    "    fig.show()\n",
    "    return fig"
   ]
  },
  {
   "cell_type": "code",
   "execution_count": null,
   "id": "73aa35b9",
   "metadata": {},
   "outputs": [],
   "source": [
    "results = trendline_scatter(\n",
    "    fw_trends,\n",
    "    \"retail_and_recreation_percent_change_from_baseline\",\n",
    "    \"transit_stations_percent_change_from_baseline\",\n",
    "    \"lowess\",\n",
    ")"
   ]
  }
 ],
 "metadata": {
  "kernelspec": {
   "display_name": "Python 3 (ipykernel)",
   "language": "python",
   "name": "python3"
  },
  "language_info": {
   "codemirror_mode": {
    "name": "ipython",
    "version": 3
   },
   "file_extension": ".py",
   "mimetype": "text/x-python",
   "name": "python",
   "nbconvert_exporter": "python",
   "pygments_lexer": "ipython3",
   "version": "3.9.7"
  },
  "toc-autonumbering": true,
  "toc-showcode": false,
  "toc-showmarkdowntxt": false
 },
 "nbformat": 4,
 "nbformat_minor": 5
}
