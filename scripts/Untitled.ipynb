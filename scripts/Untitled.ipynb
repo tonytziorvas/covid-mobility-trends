{
 "cells": [
  {
   "cell_type": "markdown",
   "id": "b47eff48-3aa2-42a0-8314-cd0f4c0f3fd4",
   "metadata": {
    "tags": []
   },
   "source": [
    "# Import Libraries\n"
   ]
  },
  {
   "cell_type": "code",
   "execution_count": null,
   "id": "0bf58d75-d65c-413b-92f0-011bba6a49cf",
   "metadata": {},
   "outputs": [],
   "source": [
    "%load_ext autoreload\n",
    "%autoreload 2"
   ]
  },
  {
   "cell_type": "code",
   "execution_count": null,
   "id": "e3422bff-f28b-4802-b121-48ae0259c243",
   "metadata": {},
   "outputs": [],
   "source": [
    "import datetime\n",
    "\n",
    "import missingno as msno\n",
    "\n",
    "# Data Manipulation\n",
    "import numpy as np\n",
    "import pandas as pd\n",
    "import matplotlib.pyplot as plt\n",
    "from scipy.stats import boxcox\n",
    "\n",
    "from scipy.optimize import curve_fit\n",
    "\n",
    "# Time Series Analysis\n",
    "from statsmodels.graphics.tsaplots import plot_acf, plot_pacf\n",
    "from statsmodels.tsa.statespace.sarimax import SARIMAX\n",
    "from statsmodels.tsa.seasonal import seasonal_decompose\n",
    "\n",
    "# Accuracy Metrics\n",
    "from sklearn.metrics import mean_absolute_error, mean_squared_error\n",
    "\n",
    "# Data Visualization\n",
    "from plotly.subplots import make_subplots\n",
    "from plotly.colors import DEFAULT_PLOTLY_COLORS\n",
    "import plotly.express as px\n",
    "import plotly.graph_objects as go\n",
    "\n",
    "import helper\n"
   ]
  },
  {
   "cell_type": "code",
   "execution_count": null,
   "id": "e5561d3a-e6dd-4668-9724-2b65f6921d4b",
   "metadata": {},
   "outputs": [],
   "source": [
    "PLOT_WIDTH, PLOT_HEIGHT = 1000, 500\n",
    "TITLE_FONT_SIZE = 12\n",
    "AXIS_FONT_SIZE = 10\n",
    "helper._init()\n"
   ]
  },
  {
   "cell_type": "markdown",
   "id": "5ac03b13-0529-4d51-a976-e376342b3f4e",
   "metadata": {},
   "source": [
    "# Data Preprocessing\n"
   ]
  },
  {
   "cell_type": "markdown",
   "id": "f1e03b43-670e-4442-9856-8d8916614093",
   "metadata": {},
   "source": [
    "## Load Data\n"
   ]
  },
  {
   "cell_type": "code",
   "execution_count": null,
   "id": "a9a102b8-3907-4993-87f1-14939513bb4d",
   "metadata": {
    "tags": []
   },
   "outputs": [],
   "source": [
    "google = helper.fetch_data_from_database(\n",
    "    table=\"mobility_stats_google\",\n",
    "    where_column=\"country_region_code\",\n",
    "    where_value=\"GR\",\n",
    "    order_by=\"date\",\n",
    "    date_column=\"date\",\n",
    ")\n",
    "covid = helper.fetch_data_from_database(table=\"covid_data_greece\", date_column=\"date\")\n"
   ]
  },
  {
   "cell_type": "markdown",
   "id": "ab555419-79f9-48a8-8e4f-0ba82c9679ad",
   "metadata": {},
   "source": [
    "## Data Cleaning\n"
   ]
  },
  {
   "cell_type": "code",
   "execution_count": null,
   "id": "0c0a9790",
   "metadata": {},
   "outputs": [],
   "source": [
    "google.columns = [\n",
    "    col.removesuffix(\"_percent_change_from_baseline\") for col in google.columns\n",
    "]\n"
   ]
  },
  {
   "cell_type": "code",
   "execution_count": null,
   "id": "193a00dc",
   "metadata": {},
   "outputs": [],
   "source": [
    "msno.matrix(\n",
    "    google, figsize=(15, 8), fontsize=12, sparkline=False, color=(1, 0.38, 0.27)\n",
    ")\n"
   ]
  },
  {
   "cell_type": "code",
   "execution_count": null,
   "metadata": {},
   "outputs": [],
   "source": [
    "google.dtypes\n"
   ]
  },
  {
   "cell_type": "code",
   "execution_count": null,
   "id": "ed4d85fe-3eaa-41a3-9bd9-dee30ff61b53",
   "metadata": {},
   "outputs": [],
   "source": [
    "# Select columns with numeric values\n",
    "num_cols = [column for column in google.columns if google[column].dtype == \"float64\"]\n",
    "google = helper.preprocess_pipeline(\n",
    "    df=google,\n",
    "    numeric_columns=num_cols,\n",
    "    group_subset=[\"date\", \"sub_region_1\"],\n",
    "    threshold=0.8,\n",
    ")\n",
    "\n",
    "# Drop samples with missing location info\n",
    "google = google[~google[\"sub_region_1\"].isna()]\n"
   ]
  },
  {
   "cell_type": "code",
   "execution_count": null,
   "id": "7c016ea9-fe25-4eef-8267-49592360b31d",
   "metadata": {},
   "outputs": [],
   "source": [
    "regions = google.groupby(by=\"sub_region_1\").groups.keys()\n",
    "\n",
    "# Population per Region as of 2020 stats\n",
    "regional_pop = [\n",
    "    3_828_434,\n",
    "    623_065,\n",
    "    620_545,\n",
    "    2_490_290,\n",
    "    1_465_554,\n",
    "    1_280_152,\n",
    "    508_246,\n",
    "]\n",
    "\n",
    "total_pop = sum(regional_pop)\n",
    "weights = {k: v / total_pop for k, v in zip(regions, regional_pop)}\n"
   ]
  },
  {
   "cell_type": "code",
   "execution_count": null,
   "id": "432f7d74-a4ca-4d66-97f9-aca15027adad",
   "metadata": {},
   "outputs": [],
   "source": [
    "def weighted_mean(row):\n",
    "    region = row[\"sub_region_1\"]\n",
    "    row[num_cols] *= weights.get(region, None)\n",
    "    return row\n"
   ]
  },
  {
   "cell_type": "code",
   "execution_count": null,
   "id": "023e60c2-5b24-4a69-8699-ef4e53d4821e",
   "metadata": {},
   "outputs": [],
   "source": [
    "google = (\n",
    "    google.apply(lambda row: weighted_mean(row), axis=1)\n",
    "    .groupby(by=\"date\", as_index=False)\n",
    "    .sum(numeric_only=True)\n",
    ")\n"
   ]
  },
  {
   "cell_type": "code",
   "execution_count": null,
   "id": "9bafc3cb-2aa6-402e-a175-2481f949120b",
   "metadata": {},
   "outputs": [],
   "source": [
    "# Augment data by adding date-specific columns\n",
    "google[\"month\"] = google[\"date\"].dt.month\n",
    "google[\"year\"] = google[\"date\"].dt.year\n",
    "google[\"day_name\"] = google.date.dt.day_name()\n"
   ]
  },
  {
   "cell_type": "markdown",
   "id": "7d96dbca-9257-4c71-b84a-31ca0d903889",
   "metadata": {
    "tags": []
   },
   "source": [
    "## Check skewness of the features\n"
   ]
  },
  {
   "cell_type": "code",
   "execution_count": null,
   "id": "99d91acf-b42f-489a-86b5-7644dae7479d",
   "metadata": {},
   "outputs": [],
   "source": [
    "skewed_cols = [col for col in num_cols[:-2] if np.abs(google[col].skew()) > 0.5]\n"
   ]
  },
  {
   "cell_type": "code",
   "execution_count": null,
   "id": "6c99d388",
   "metadata": {},
   "outputs": [],
   "source": [
    "fig = px.histogram(\n",
    "    data_frame=google,\n",
    "    x=skewed_cols[1],\n",
    "    labels=dict(transit_stations=helper.TITLES[3]),\n",
    "    title=\"Data before Box-Cox Transformation\",\n",
    "    nbins=50,\n",
    "    width=PLOT_WIDTH,\n",
    "    height=PLOT_HEIGHT,\n",
    ")\n",
    "\n",
    "fig.update_layout(\n",
    "    showlegend=False,\n",
    "    bargap=0.2,\n",
    "    font_size=TITLE_FONT_SIZE,\n",
    "    xaxis=dict(rangeselector_font_size=AXIS_FONT_SIZE),\n",
    "    yaxis=dict(tickfont_size=AXIS_FONT_SIZE),\n",
    ")\n",
    "fig.show()\n",
    "fig.write_image(\"../plots/Box-Cox - Before.png\")\n"
   ]
  },
  {
   "cell_type": "code",
   "execution_count": null,
   "id": "d0a407e1-f06f-4574-9310-7b7e6277feed",
   "metadata": {},
   "outputs": [],
   "source": [
    "fig = px.histogram(\n",
    "    data_frame=google,\n",
    "    x=skewed_cols,\n",
    "    histnorm=\"percent\",\n",
    "    nbins=50,\n",
    "    facet_col=\"variable\",\n",
    "    facet_col_wrap=2,\n",
    "    facet_col_spacing=0.05,\n",
    "    width=600 * len(skewed_cols),\n",
    "    height=PLOT_HEIGHT * len(skewed_cols) / 2,\n",
    ")\n",
    "fig.update_layout(\n",
    "    showlegend=False,\n",
    "    bargap=0.2,\n",
    "    yaxis=dict(title_text=\"Frequency\"),\n",
    "    title_text=\"Feature Histogram with skew > 0.5\",\n",
    "    title_x=0.5,\n",
    "    font_size=TITLE_FONT_SIZE,\n",
    ")\n",
    "fig.update_xaxes(\n",
    "    title_text=\"Value\", position=0.5, ticksuffix=\"%\", rangeselector_font_size=AXIS_FONT_SIZE\n",
    ")\n",
    "fig.update_yaxes(matches=None, showticklabels=True, ticksuffix=\"%\", tickfont_size=AXIS_FONT_SIZE)\n",
    "fig.for_each_annotation(\n",
    "    lambda a: a.update(\n",
    "        text=f'{helper.TITLES[google.columns.get_loc(a.text.split(\"=\")[-1]) - 1]}: {np.abs(google[a.text.split(\"=\")[-1]].skew()):.2f}'\n",
    "    )\n",
    ")\n",
    "\n",
    "fig.show()\n",
    "fig.write_image(\"../plots/Skewed Features (Histogram)(Google).png\")\n"
   ]
  },
  {
   "cell_type": "code",
   "execution_count": null,
   "id": "aed6035b",
   "metadata": {},
   "outputs": [],
   "source": [
    "tickvals = list(range(-100, 350, 50))\n",
    "\n",
    "fig = px.line(\n",
    "    data_frame=google,\n",
    "    x=\"date\",\n",
    "    y=skewed_cols,\n",
    "    width=PLOT_WIDTH,\n",
    "    height=PLOT_HEIGHT,\n",
    "    title=\"Daily Mobility Profile \",\n",
    "    labels=dict(value=\"Change (%)\"),\n",
    ")\n",
    "for year in [2020, 2021]:\n",
    "    fig.add_vrect(\n",
    "        x0=datetime.datetime(year, 5, 1),\n",
    "        x1=datetime.datetime(year, 9, 1),\n",
    "        fillcolor=\"goldenrod\",\n",
    "        opacity=0.2,\n",
    "        line_width=0,\n",
    "    )\n",
    "\n",
    "fig.update_layout(\n",
    "    font_size=TITLE_FONT_SIZE,\n",
    "    xaxis=dict(rangeselector_font_size=AXIS_FONT_SIZE),\n",
    "    yaxis=dict(\n",
    "        tickmode=\"array\", tickvals=tickvals, ticktext=tickvals, tickfont_size=AXIS_FONT_SIZE\n",
    "    ),\n",
    ")\n",
    "fig.for_each_annotation(\n",
    "    lambda a: a.update(\n",
    "        text=f'{helper.TITLES[google.columns.get_loc(a.text.split(\"=\")[-1]) - 1]}'\n",
    "    )\n",
    ")\n",
    "fig.show()\n",
    "fig.write_image(\"../plots/Skewed Features (Line)(Google).png\")\n"
   ]
  },
  {
   "cell_type": "markdown",
   "id": "a4db4621-656a-4d60-bc98-7cf385e1f976",
   "metadata": {
    "tags": []
   },
   "source": [
    "## Check Correlations\n"
   ]
  },
  {
   "cell_type": "code",
   "execution_count": null,
   "id": "06aefb38-d9e5-4a91-a1af-e713e120109e",
   "metadata": {},
   "outputs": [],
   "source": [
    "# To better capture non-linear relationships and reduce effects from outliers we use Spearman's rank correlation\n",
    "corr = google.iloc[:, 1:-3].corr(method=\"spearman\")\n",
    "\n",
    "labels = np.where(\n",
    "    np.abs(corr) > 0.90,\n",
    "    \"VS\",\n",
    "    np.where(\n",
    "        np.abs(corr) > 0.75,\n",
    "        \"S\",\n",
    "        np.where(np.abs(corr) > 0.55, \"M\", np.where(np.abs(corr) > 0.30, \"W\", \"\")),\n",
    "    ),\n",
    ")\n"
   ]
  },
  {
   "cell_type": "code",
   "execution_count": null,
   "id": "e67f05e1-a849-4485-bce0-39eef7b21431",
   "metadata": {},
   "outputs": [],
   "source": [
    "fig = px.imshow(\n",
    "    corr,\n",
    "    width=PLOT_WIDTH,\n",
    "    height=PLOT_HEIGHT,\n",
    "    text_auto=\".2f\",\n",
    "    color_continuous_scale=\"RdBu_r\",\n",
    ")\n",
    "\n",
    "fig.update_layout(\n",
    "    title=\"Feature Relationships\",\n",
    "    xaxis=dict(\n",
    "        tickmode=\"array\",\n",
    "        tickvals=corr.columns,\n",
    "        ticktext=helper.TITLES,\n",
    "        tickangle=-30,\n",
    "        rangeselector_font_size=AXIS_FONT_SIZE,\n",
    "    ),\n",
    "    yaxis=dict(\n",
    "        tickmode=\"array\",\n",
    "        tickvals=corr.columns,\n",
    "        ticktext=helper.TITLES,\n",
    "        tickfont_size=AXIS_FONT_SIZE,\n",
    "    ),\n",
    "    font_size=TITLE_FONT_SIZE\n",
    ")\n",
    "fig.update_traces(text=labels, texttemplate=\"%{text}\")\n",
    "\n",
    "fig.show()\n",
    "fig.write_image(\"../plots/Feature Correlations.png\")\n"
   ]
  },
  {
   "cell_type": "code",
   "execution_count": null,
   "id": "e8a463a7",
   "metadata": {},
   "outputs": [],
   "source": [
    "fig = px.box(\n",
    "    data_frame=google,\n",
    "    x=google.columns[1:-3],\n",
    "    width=PLOT_WIDTH,\n",
    "    height=PLOT_HEIGHT,\n",
    "    labels={\"variable\": \"\"},\n",
    ")\n",
    "fig.update_layout(\n",
    "    xaxis=dict(rangeselector_font_size=AXIS_FONT_SIZE),\n",
    "    yaxis=dict(tickfont_size=AXIS_FONT_SIZE),\n",
    "    font_size=TITLE_FONT_SIZE,\n",
    ")\n",
    "fig.show()\n",
    "fig.write_image(\"../plots/Boxplot (Google).png\")\n"
   ]
  },
  {
   "cell_type": "markdown",
   "id": "9e8dee38",
   "metadata": {},
   "source": [
    "### Curve Fitting\n"
   ]
  },
  {
   "cell_type": "code",
   "execution_count": null,
   "id": "24ecc318-5e44-4974-912f-ba2d7a20f955",
   "metadata": {},
   "outputs": [],
   "source": [
    "X = \"retail_and_recreation\"\n",
    "Y = \"transit_stations\"\n",
    "x_index = google.columns.get_loc(X) - 1\n",
    "y_index = google.columns.get_loc(Y) - 1\n"
   ]
  },
  {
   "cell_type": "code",
   "execution_count": null,
   "id": "1d8f767f",
   "metadata": {},
   "outputs": [],
   "source": [
    "fig = px.scatter(\n",
    "    data_frame=google,\n",
    "    x=X,\n",
    "    y=Y,\n",
    "    title=f\"{helper.TITLES[x_index]} vs {helper.TITLES[y_index]}\",\n",
    "    labels={X: helper.TITLES[x_index], Y: helper.TITLES[y_index]},\n",
    "    width=PLOT_WIDTH,\n",
    "    height=600,\n",
    ")\n",
    "fig.update_layout(\n",
    "    xaxis=dict(rangeselector_font_size=AXIS_FONT_SIZE),\n",
    "    yaxis=dict(tickfont_size=AXIS_FONT_SIZE),\n",
    "    font_size=TITLE_FONT_SIZE,\n",
    ")\n",
    "fig.show()\n",
    "fig.write_image(f\"../plots/{helper.TITLES[x_index]} vs {helper.TITLES[y_index]}.png\")\n"
   ]
  },
  {
   "cell_type": "code",
   "execution_count": null,
   "id": "173a1ddb",
   "metadata": {},
   "outputs": [],
   "source": [
    "def exponential(x, a, b, c):\n",
    "    return a * np.exp(x * b) + c * x\n",
    "\n",
    "\n",
    "def linear(x, a, b):\n",
    "    return a * x + b\n"
   ]
  },
  {
   "cell_type": "code",
   "execution_count": null,
   "id": "d07256fb",
   "metadata": {},
   "outputs": [],
   "source": [
    "sorted_x = {a: b for a, b in zip(google[X], google[Y])}\n",
    "sorted_x = dict(sorted((k, v) for (k, v) in sorted_x.items()))\n",
    "\n",
    "x = np.asarray([k for k in sorted_x.keys()])\n",
    "y = np.asarray([v for v in sorted_x.values()])\n",
    "del X, Y\n"
   ]
  },
  {
   "cell_type": "code",
   "execution_count": null,
   "id": "97840667",
   "metadata": {},
   "outputs": [],
   "source": [
    "exp_pars, _ = curve_fit(\n",
    "    f=exponential, xdata=x, ydata=y, p0=[0, 0, 0], bounds=(-np.inf, np.inf)\n",
    ")\n",
    "exp_res = y - exponential(x, *exp_pars)\n"
   ]
  },
  {
   "cell_type": "code",
   "execution_count": null,
   "id": "f1b1803b",
   "metadata": {},
   "outputs": [],
   "source": [
    "lin_pars, _ = curve_fit(f=linear, xdata=x, ydata=y, p0=[0, 0], bounds=(-np.inf, np.inf))\n",
    "lin_res = y - linear(x, *lin_pars)\n"
   ]
  },
  {
   "cell_type": "code",
   "execution_count": null,
   "id": "d0b04ee6",
   "metadata": {},
   "outputs": [],
   "source": [
    "pars = lin_pars\n",
    "res = lin_res\n",
    "\n",
    "fig = make_subplots(\n",
    "    rows=2,\n",
    "    cols=2,\n",
    "    specs=[[{\"colspan\": 2}, None], [{}, {}]],\n",
    "    horizontal_spacing=0.02,\n",
    "    vertical_spacing=0.12,\n",
    "    subplot_titles=[\"Curve Fitting\", \"Residuals\", \"Residuals Distribution\"],\n",
    ")\n",
    "for y_value, mode, y_name in zip(\n",
    "    [y, linear(x, *pars)], [\"markers\", \"lines\"], [\"Original Data\", \"Fitted Curve\"]\n",
    "):\n",
    "    fig.add_trace(go.Scatter(x=x, y=y_value, mode=mode, name=y_name), row=1, col=1)\n",
    "\n",
    "fig.add_trace(go.Scatter(x=x, y=res, mode=\"markers\", showlegend=False), row=2, col=1)\n",
    "fig.add_trace(go.Histogram(x=res, nbinsx=50, showlegend=False), row=2, col=2)\n",
    "fig.add_hrect(\n",
    "    y0=-20, y1=20, fillcolor=\"goldenrod\", opacity=0.2, line_width=0, row=2, col=1\n",
    ")\n",
    "\n",
    "for title_text, position in zip(\n",
    "    [\"(a)\", \"(b)\", \"Distance from f(x)\", \"(c)\"], [(1, 1), (2, 1), (2, 1), (2, 2)]\n",
    "):\n",
    "    fig.update_xaxes(title_text=title_text, row=position[0], col=position[1])\n",
    "\n",
    "fig.update_layout(\n",
    "    width=PLOT_WIDTH * 1.5,\n",
    "    height=PLOT_HEIGHT * 2.1,\n",
    "    bargap=0.2,\n",
    "    title_text=\"Curve Fitting Results\",\n",
    "    title_x=0.5,\n",
    "    font_size=TITLE_FONT_SIZE,\n",
    "    xaxis=dict(rangeselector_font_size=16),\n",
    "    yaxis=dict(tickfont_size=16),\n",
    ")\n",
    "fig.update_annotations(font_size=16)\n",
    "\n",
    "fig.show()\n",
    "fig.write_image(\"../plots/Curve Fitting Results (Linear)(Google).png\")\n"
   ]
  },
  {
   "cell_type": "code",
   "execution_count": null,
   "id": "7acf169f",
   "metadata": {},
   "outputs": [],
   "source": [
    "exp_pred = exponential(x, *exp_pars)\n",
    "lin_pred = linear(x, *lin_pars)\n",
    "\n",
    "print(\"Exponential Result:\")\n",
    "print(f\"MAE: {mean_absolute_error(y_true=y, y_pred=exp_pred):.3f}\")\n",
    "print(f\"RMSE: {np.sqrt(mean_squared_error(y_true=y, y_pred=exp_pred)):.3f}\")\n",
    "print(\"\\nLinear Result:\")\n",
    "print(f\"MAE: {mean_absolute_error(y_true=y, y_pred=lin_pred):.3f}\")\n",
    "print(f\"RMSE: {np.sqrt(mean_squared_error(y_true=y, y_pred=lin_pred)):.3f}\")\n"
   ]
  },
  {
   "cell_type": "code",
   "execution_count": null,
   "id": "c44fe8ef",
   "metadata": {},
   "outputs": [],
   "source": [
    "del pars, exp_pars, exp_res, lin_pars, lin_res, exp_pred, lin_pred\n"
   ]
  },
  {
   "cell_type": "markdown",
   "id": "5fb1df59-eeed-448d-84b3-37fa7ae14f3d",
   "metadata": {
    "tags": []
   },
   "source": [
    "## Focus on Transit Stations\n"
   ]
  },
  {
   "cell_type": "code",
   "execution_count": null,
   "id": "c27a1d54-9224-4ebc-9e92-0618ebf259dd",
   "metadata": {},
   "outputs": [],
   "source": [
    "ts_transit = google[[\"date\", \"transit_stations\"]].copy()\n",
    "ts_transit.set_index(\"date\", inplace=True)\n",
    "ts_transit.index.freq = \"D\"\n"
   ]
  },
  {
   "cell_type": "code",
   "execution_count": null,
   "id": "0463f903-d839-4a4c-8338-ffd77e1d16aa",
   "metadata": {},
   "outputs": [],
   "source": [
    "px.box(\n",
    "    ts_transit,\n",
    "    x=\"transit_stations\",\n",
    "    notched=True,\n",
    "    labels={\"transit_stations\": helper.TITLES[3]},\n",
    "    width=PLOT_WIDTH,\n",
    "    height=PLOT_HEIGHT,\n",
    ")\n"
   ]
  },
  {
   "cell_type": "markdown",
   "id": "8bdf4ad1-1d62-43c7-b56d-2de557a2ae10",
   "metadata": {
    "tags": []
   },
   "source": [
    "### Box-Cox Transformation\n"
   ]
  },
  {
   "cell_type": "code",
   "execution_count": null,
   "id": "5f6121d7-77c4-4a50-9281-580905d3e050",
   "metadata": {},
   "outputs": [],
   "source": [
    "ts_transit.loc[:, \"transit_stations\"] = (\n",
    "    ts_transit[\"transit_stations\"] + np.abs(ts_transit[\"transit_stations\"].min()) + 1\n",
    ")\n",
    "trans, _ = boxcox(x=ts_transit[\"transit_stations\"])\n",
    "ts_transit.loc[:, \"transit_stations\"] = trans\n",
    "\n",
    "del trans\n"
   ]
  },
  {
   "cell_type": "code",
   "execution_count": null,
   "id": "ca7be08f",
   "metadata": {},
   "outputs": [],
   "source": [
    "fig = px.histogram(\n",
    "    data_frame=ts_transit,\n",
    "    x=\"transit_stations\",\n",
    "    labels=dict(transit_stations=helper.TITLES[3]),\n",
    "    title=\"Data after Box-Cox Transformation\",\n",
    "    nbins=50,\n",
    "    width=PLOT_WIDTH,\n",
    "    height=PLOT_HEIGHT,\n",
    ")\n",
    "\n",
    "fig.update_layout(\n",
    "    showlegend=False,\n",
    "    bargap=0.2,\n",
    "    xaxis=dict(rangeselector_font_size=AXIS_FONT_SIZE),\n",
    "    yaxis=dict(tickfont_size=AXIS_FONT_SIZE),\n",
    "    font_size=TITLE_FONT_SIZE,\n",
    ")\n",
    "fig.show()\n",
    "fig.write_image(\"../plots/Box-Cox - After.png\")\n"
   ]
  },
  {
   "cell_type": "markdown",
   "id": "156d20e4-ed62-49c7-a9a5-dda0fd9a30c9",
   "metadata": {
    "tags": []
   },
   "source": [
    "### Seasonal Decomposition\n"
   ]
  },
  {
   "cell_type": "code",
   "execution_count": null,
   "id": "bcf24c80-6467-4023-8af9-1a11d86ad131",
   "metadata": {},
   "outputs": [],
   "source": [
    "PERIOD = 7\n",
    "\n",
    "result = seasonal_decompose(\n",
    "    x=ts_transit, model=\"additive\", period=PERIOD, two_sided=True\n",
    ")\n",
    "trend = result.trend.to_frame()\n",
    "seasonality = result.seasonal.to_frame()\n",
    "residual = result.resid.to_frame()\n"
   ]
  },
  {
   "cell_type": "code",
   "execution_count": null,
   "id": "6f60032d-c301-472c-a1ae-82173c88a97f",
   "metadata": {
    "tags": []
   },
   "outputs": [],
   "source": [
    "fig = make_subplots(\n",
    "    rows=4,\n",
    "    cols=1,\n",
    "    subplot_titles=[\n",
    "        \"Original Data\",\n",
    "        \"Observed Trend\",\n",
    "        \"Extracted Seasonality\",\n",
    "        \"Residuals\",\n",
    "    ],\n",
    "    row_heights=[1200 for _ in range(4)],\n",
    "    vertical_spacing=0.04,\n",
    ")\n",
    "index = ts_transit.index\n",
    "for y_component, y_position, name in zip(\n",
    "    [ts_transit[\"transit_stations\"], trend[\"trend\"], seasonality[\"seasonal\"], residual[\"resid\"]],\n",
    "    [1, 2, 3, 4],\n",
    "    [\"Observed\", \"Trend\", \"Seasonality\", \"Residual\"],\n",
    "):\n",
    "    fig.add_trace(\n",
    "        go.Scatter(x=index, y=y_component, mode=\"lines\", name=name),\n",
    "        row=y_position,\n",
    "        col=1,\n",
    "    )\n",
    "\n",
    "fig.update_layout(\n",
    "    showlegend=False,\n",
    "    title_text=\"Seasonal Decomposition\",\n",
    "    title_x=0.5,\n",
    "    title_font=dict(family=\"Courier New\", size=25),\n",
    "    width=PLOT_WIDTH,\n",
    "    height=PLOT_HEIGHT * 3,\n",
    "    xaxis=dict(rangeselector_font_size=16),\n",
    "    yaxis=dict(tickfont_size=16),\n",
    "    font_size=16,\n",
    ")\n",
    "fig.show()\n",
    "# fig.write_image(\"../plots/Seasonal Decomposition.png\")\n"
   ]
  },
  {
   "cell_type": "code",
   "execution_count": null,
   "id": "c15725b7-4495-4efa-87e8-047c35f3164b",
   "metadata": {},
   "outputs": [],
   "source": [
    "fig = google.plot(\n",
    "    kind=\"box\",\n",
    "    x=\"month\",\n",
    "    y=\"transit_stations\",\n",
    "    color=\"month\",\n",
    "    width=PLOT_WIDTH,\n",
    "    height=PLOT_HEIGHT,\n",
    "    title=\"Month-wise Mobility on Public Transport\",\n",
    "    backend=\"plotly\",\n",
    ")\n",
    "\n",
    "fig.update_layout(\n",
    "    showlegend=False,\n",
    "    xaxis=dict(\n",
    "        tickmode=\"array\",\n",
    "        tickvals=list(range(1, 13)),\n",
    "        ticktext=[datetime.date(2000, i, 1).strftime(\"%b\") for i in range(1, 13)],\n",
    "        title_text=\"Month\",\n",
    "        rangeselector_font_size=AXIS_FONT_SIZE,\n",
    "    ),\n",
    "    yaxis=dict(title_text=helper.TITLES[3], tickfont_size=AXIS_FONT_SIZE),\n",
    "    font_size=TITLE_FONT_SIZE,\n",
    ")\n",
    "\n",
    "fig.show()\n",
    "fig.write_image(\"../plots/Monthly Box Plot.png\")\n"
   ]
  },
  {
   "cell_type": "markdown",
   "id": "a6f371e1-79db-4b1a-9e60-6a3297438912",
   "metadata": {},
   "source": [
    "### Check Stationarity\n"
   ]
  },
  {
   "cell_type": "markdown",
   "id": "eab6afbe-41df-4cd1-bbe5-205f18d69f74",
   "metadata": {
    "tags": []
   },
   "source": [
    "#### Augmented Dickey-Fuller Test\n"
   ]
  },
  {
   "cell_type": "code",
   "execution_count": null,
   "id": "08556213-ebfc-4185-9984-2edfa9f5e952",
   "metadata": {},
   "outputs": [],
   "source": [
    "d = 0\n",
    "ts = ts_transit[\"transit_stations\"]\n",
    "\n",
    "while helper.test_stationarity(ts, nlags=d, confidence=0.01):\n",
    "    ts = ts.diff().dropna()\n",
    "    d += 1\n",
    "\n",
    "ts_transit.loc[:, f\"{d}-lag\"] = ts\n",
    "del ts\n"
   ]
  },
  {
   "cell_type": "code",
   "execution_count": null,
   "id": "6c452961-0890-4c98-b6ad-86cc1ba431de",
   "metadata": {},
   "outputs": [],
   "source": [
    "column = f\"{d}-lag\"\n",
    "\n",
    "fig = px.line(\n",
    "    data_frame=ts_transit,\n",
    "    y=[\n",
    "        column,\n",
    "        ts_transit[column].rolling(window=PERIOD, center=False).mean(),\n",
    "        ts_transit[column].rolling(window=PERIOD, center=False).std(),\n",
    "    ],\n",
    "    labels={\"date\": \"Date\", \"value\": \"\", \"variable\": \"\"},\n",
    "    title=\"Rolling Statistics for Differenced Time Series\",\n",
    "    width=PLOT_WIDTH,\n",
    "    height=PLOT_HEIGHT,\n",
    ")\n",
    "fig.data[0].name = \"raw data\"\n",
    "fig.data[1].name = \"rolling mean\"\n",
    "fig.data[2].name = \"rolling variance\"\n",
    "\n",
    "fig.update_layout(\n",
    "    xaxis=dict(rangeselector_font_size=AXIS_FONT_SIZE),\n",
    "    yaxis=dict(tickfont_size=AXIS_FONT_SIZE),\n",
    "    font_size=TITLE_FONT_SIZE,\n",
    ")\n",
    "fig.show()\n",
    "fig.write_image(\"../plots/Rolling Statistics.png\")\n"
   ]
  },
  {
   "cell_type": "markdown",
   "id": "10d1cc4e-4900-4a65-91ca-8a1f383c9509",
   "metadata": {
    "tags": []
   },
   "source": [
    "#### Autocorrelation plots (ACF & PACF)\n"
   ]
  },
  {
   "cell_type": "code",
   "execution_count": null,
   "id": "ac2fadbc-a39b-481f-8b0c-cfea588de272",
   "metadata": {},
   "outputs": [],
   "source": [
    "FIG_SIZE = (12, 10)\n",
    "\n",
    "fig, ax = plt.subplots(2, 1, figsize=FIG_SIZE)\n",
    "plot_acf(ts_transit[f\"{d}-lag\"].dropna(), ax=ax[0], lags=30)\n",
    "plot_pacf(ts_transit[f\"{d}-lag\"].dropna(), ax=ax[1], lags=30, method=\"ols\")\n",
    "plt.show()\n"
   ]
  },
  {
   "cell_type": "markdown",
   "id": "937fe837-b5ce-4e5d-b68c-5252987437d8",
   "metadata": {
    "jp-MarkdownHeadingCollapsed": true,
    "tags": []
   },
   "source": [
    "### Building the SARIMA Model\n"
   ]
  },
  {
   "cell_type": "markdown",
   "id": "09111400-c0c4-4da5-93ab-327b953925b2",
   "metadata": {},
   "source": [
    "#### Grid Search for optimal parameters\n"
   ]
  },
  {
   "cell_type": "code",
   "execution_count": null,
   "id": "86a24eb8-be7e-4c19-bd30-62684d26bb19",
   "metadata": {},
   "outputs": [],
   "source": [
    "train_data = ts_transit[f\"{d}-lag\"].loc[:\"2021-11-30\"]\n",
    "test_data = ts_transit[f\"{d}-lag\"].loc[\"2021-12-01\":\"2022-03-01\"]\n"
   ]
  },
  {
   "cell_type": "markdown",
   "id": "7c7fbb82-3074-4394-aea0-63391aa63858",
   "metadata": {},
   "source": [
    "#### Training the optimal SARIMA Model\n"
   ]
  },
  {
   "cell_type": "code",
   "execution_count": null,
   "id": "1bb30855-6ac9-450f-bd62-d0dd6a323dba",
   "metadata": {},
   "outputs": [],
   "source": [
    "best_model = SARIMAX(train_data, order=(1, 1, 3), seasonal_order=(1, 1, 3, 7)).fit(\n",
    "    disp=False\n",
    ")\n",
    "print(best_model.summary())\n"
   ]
  },
  {
   "cell_type": "code",
   "execution_count": null,
   "id": "0d7aeb99-a8a9-4a1a-ab19-ebffbf91920d",
   "metadata": {},
   "outputs": [],
   "source": [
    "best_model.plot_diagnostics(lags=30, figsize=(15, 12), auto_ylims=True)\n",
    "plt.show()\n"
   ]
  },
  {
   "cell_type": "code",
   "execution_count": null,
   "id": "d60cb998-5036-42b1-a716-f618cec4f35e",
   "metadata": {},
   "outputs": [],
   "source": [
    "predictions, mape_list, forecast_ci = helper.walk_forward_validation(\n",
    "    ts_transit, f\"{d}-lag\", train_data.shape[0], test_data.shape[0]\n",
    ")\n"
   ]
  },
  {
   "cell_type": "code",
   "execution_count": null,
   "id": "7a9c89a0-8475-445b-ae89-e1c1b06f4966",
   "metadata": {},
   "outputs": [],
   "source": [
    "fig = go.Figure()\n",
    "\n",
    "for x_data, y_data, name, opacity, in zip(\n",
    "    [train_data.index.values, test_data.index.values, test_data.index.values],\n",
    "    [train_data, test_data, predictions],\n",
    "    [\"train_data\", \"test_data\", \"predictions\"],\n",
    "    [1, 0.7, 0.7],\n",
    "):\n",
    "    fig.add_trace(\n",
    "        go.Scatter(x=x_data, y=y_data, mode=\"lines\", name=name, opacity=opacity)\n",
    "    )\n",
    "\n",
    "fig.update_layout(\n",
    "    title=f\"Forecast until {str(test_data.index[-1].date())}\",\n",
    "    width=PLOT_WIDTH,\n",
    "    height=PLOT_HEIGHT,\n",
    "    yaxis_ticksuffix=\"%\",\n",
    ")\n",
    "fig.show()\n",
    "fig.write_image(f\"../plots/Forecast until {str(test_data.index[-1].date())}.png\")\n"
   ]
  },
  {
   "cell_type": "markdown",
   "id": "765a6620",
   "metadata": {
    "tags": []
   },
   "source": [
    "# Compare behavior between first and second wave period of the pandemic\n"
   ]
  },
  {
   "cell_type": "code",
   "execution_count": null,
   "id": "81a45e19-8e8c-4bae-87cc-c6e1887a014d",
   "metadata": {},
   "outputs": [],
   "source": [
    "covid.iloc[:, 1:] = covid.iloc[:, 1:].diff().astype(pd.Int64Dtype())\n",
    "# First confirmed case was on 2020-02-26 (at index 35)\n",
    "covid = covid.loc[35:, :]\n"
   ]
  },
  {
   "cell_type": "code",
   "execution_count": null,
   "id": "8a6620cc-704e-4ec4-872b-2eeaa26a1881",
   "metadata": {},
   "outputs": [],
   "source": [
    "fmt = \"%Y-%m-%d\"  # Specifying the date format\n",
    "\n",
    "# First Wave\n",
    "start_date = datetime.datetime.strptime(\"2020-02-16\", fmt)\n",
    "end_date = datetime.datetime.strptime(\"2020-07-10\", fmt)\n",
    "\n",
    "mask = (google[\"date\"] >= start_date) & (google[\"date\"] <= end_date)\n",
    "fw_mobility = google.loc[mask].reset_index(drop=True)\n",
    "mask = (covid[\"date\"] >= start_date) & (covid[\"date\"] <= end_date)\n",
    "fw_cases = covid.loc[mask]\n",
    "\n",
    "# Second Wave\n",
    "start_date = datetime.datetime.strptime(\"2020-11-07\", fmt)\n",
    "end_date = datetime.datetime.strptime(\"2021-03-22\", fmt)\n",
    "\n",
    "mask = (google[\"date\"] >= start_date) & (google[\"date\"] <= end_date)\n",
    "sw_mobility = google.loc[mask].reset_index(drop=True)\n",
    "mask = (covid[\"date\"] >= start_date) & (covid[\"date\"] <= end_date)\n",
    "sw_cases = covid.loc[mask]\n"
   ]
  },
  {
   "cell_type": "markdown",
   "id": "72e2621a-04aa-4e63-b913-72733d8395da",
   "metadata": {
    "tags": []
   },
   "source": [
    "## Distributions during each wave\n"
   ]
  },
  {
   "cell_type": "code",
   "execution_count": null,
   "id": "78f4db7f",
   "metadata": {},
   "outputs": [],
   "source": [
    "fig = make_subplots(\n",
    "    rows=2,\n",
    "    cols=2,\n",
    "    horizontal_spacing=0.03,\n",
    "    vertical_spacing=0.05,\n",
    "    shared_yaxes=True,\n",
    "    subplot_titles=helper.TITLES[:4],\n",
    "    x_title=\"Change (%)\",\n",
    "    y_title=\"Frequency (%)\",\n",
    ")\n",
    "show = True\n",
    "\n",
    "for col, position in zip(fw_mobility.columns[1:5], [(1, 1), (1, 2), (2, 1), (2, 2)]):\n",
    "    for df, name, color_id in zip(\n",
    "        [fw_mobility, sw_mobility], [\"first wave\", \"second wave\"], [0, 3]\n",
    "    ):\n",
    "        fig.add_trace(\n",
    "            go.Histogram(\n",
    "                x=df[col],\n",
    "                nbinsx=30,\n",
    "                name=name,\n",
    "                marker_color=DEFAULT_PLOTLY_COLORS[color_id],\n",
    "                showlegend=True if show else False,\n",
    "            ),\n",
    "            row=position[0],\n",
    "            col=position[1],\n",
    "        )\n",
    "    show = False\n",
    "\n",
    "\n",
    "fig.update_layout(\n",
    "    title_text=\"Mobility Changes between first and second wave\",\n",
    "    title_x=0.5,\n",
    "    bargap=0.2,  # gap between bars of adjacent location coordinates\n",
    "    bargroupgap=0.1,  # gap between bars of the same location coordinates\n",
    "    font_size=TITLE_FONT_SIZE,\n",
    "    width=PLOT_WIDTH * 1.3,\n",
    "    height=PLOT_HEIGHT * 2,\n",
    "    xaxis=dict(rangeselector_font_size=AXIS_FONT_SIZE),\n",
    "    yaxis=dict(tickfont_size=AXIS_FONT_SIZE),\n",
    ")\n",
    "fig.update_annotations(font_size=16)\n",
    "fig.show()\n",
    "fig.write_image(\"../plots/First vs Second Wave.png\")\n"
   ]
  },
  {
   "cell_type": "code",
   "execution_count": null,
   "id": "aba6a66a-82fe-45b8-a73f-11f66bf714a1",
   "metadata": {},
   "outputs": [],
   "source": [
    "print(fw_cases[\"confirmed\"].sum(), sw_cases[\"confirmed\"].sum())\n"
   ]
  }
 ],
 "metadata": {
  "interpreter": {
   "hash": "4211464285155850414fc7fccc67e8d74adfbb0477dce4fe8ae9759875a916e2"
  },
  "kernelspec": {
   "display_name": "Python 3.10.0 ('diploma-1hQoucmJ-py3.10')",
   "language": "python",
   "name": "python3"
  },
  "language_info": {
   "codemirror_mode": {
    "name": "ipython",
    "version": 3
   },
   "file_extension": ".py",
   "mimetype": "text/x-python",
   "name": "python",
   "nbconvert_exporter": "python",
   "pygments_lexer": "ipython3",
   "version": "3.10.0"
  },
  "toc-autonumbering": true,
  "toc-showcode": false,
  "toc-showmarkdowntxt": false
 },
 "nbformat": 4,
 "nbformat_minor": 5
}
